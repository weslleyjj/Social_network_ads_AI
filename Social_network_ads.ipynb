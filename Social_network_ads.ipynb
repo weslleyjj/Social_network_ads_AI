{
  "nbformat": 4,
  "nbformat_minor": 5,
  "metadata": {
    "kernelspec": {
      "display_name": "Python 3",
      "language": "python",
      "name": "python3"
    },
    "language_info": {
      "codemirror_mode": {
        "name": "ipython",
        "version": 3
      },
      "file_extension": ".py",
      "mimetype": "text/x-python",
      "name": "python",
      "nbconvert_exporter": "python",
      "pygments_lexer": "ipython3",
      "version": "3.8.8"
    },
    "colab": {
      "name": "Social_network_ads",
      "provenance": [],
      "collapsed_sections": [],
      "toc_visible": true
    }
  },
  "cells": [
    {
      "cell_type": "code",
      "metadata": {
        "colab": {
          "base_uri": "https://localhost:8080/"
        },
        "id": "Ch37h5a9sOVh",
        "outputId": "81f2604d-3ad4-401a-ef4e-29589fefcb1e"
      },
      "source": [
        "from google.colab import drive\n",
        "drive.mount('/content/drive')"
      ],
      "id": "Ch37h5a9sOVh",
      "execution_count": null,
      "outputs": [
        {
          "output_type": "stream",
          "text": [
            "Drive already mounted at /content/drive; to attempt to forcibly remount, call drive.mount(\"/content/drive\", force_remount=True).\n"
          ],
          "name": "stdout"
        }
      ]
    },
    {
      "cell_type": "code",
      "metadata": {
        "tags": [],
        "colab": {
          "base_uri": "https://localhost:8080/",
          "height": 424
        },
        "id": "3638368a-5f64-472d-a661-a42c5147c7ce",
        "outputId": "c3006267-90eb-4602-f312-dca030f2a6e1"
      },
      "source": [
        "import pandas as pd\n",
        "\n",
        "df = pd.read_csv('/content/drive/MyDrive/Colab Notebooks/Social_Network_Ads.csv', error_bad_lines=False)\n",
        "\n",
        "df"
      ],
      "id": "3638368a-5f64-472d-a661-a42c5147c7ce",
      "execution_count": null,
      "outputs": [
        {
          "output_type": "execute_result",
          "data": {
            "text/html": [
              "<div>\n",
              "<style scoped>\n",
              "    .dataframe tbody tr th:only-of-type {\n",
              "        vertical-align: middle;\n",
              "    }\n",
              "\n",
              "    .dataframe tbody tr th {\n",
              "        vertical-align: top;\n",
              "    }\n",
              "\n",
              "    .dataframe thead th {\n",
              "        text-align: right;\n",
              "    }\n",
              "</style>\n",
              "<table border=\"1\" class=\"dataframe\">\n",
              "  <thead>\n",
              "    <tr style=\"text-align: right;\">\n",
              "      <th></th>\n",
              "      <th>User ID</th>\n",
              "      <th>Gender</th>\n",
              "      <th>Age</th>\n",
              "      <th>EstimatedSalary</th>\n",
              "      <th>Purchased</th>\n",
              "    </tr>\n",
              "  </thead>\n",
              "  <tbody>\n",
              "    <tr>\n",
              "      <th>0</th>\n",
              "      <td>15624510</td>\n",
              "      <td>Male</td>\n",
              "      <td>19</td>\n",
              "      <td>19000</td>\n",
              "      <td>0</td>\n",
              "    </tr>\n",
              "    <tr>\n",
              "      <th>1</th>\n",
              "      <td>15810944</td>\n",
              "      <td>Male</td>\n",
              "      <td>35</td>\n",
              "      <td>20000</td>\n",
              "      <td>0</td>\n",
              "    </tr>\n",
              "    <tr>\n",
              "      <th>2</th>\n",
              "      <td>15668575</td>\n",
              "      <td>Female</td>\n",
              "      <td>26</td>\n",
              "      <td>43000</td>\n",
              "      <td>0</td>\n",
              "    </tr>\n",
              "    <tr>\n",
              "      <th>3</th>\n",
              "      <td>15603246</td>\n",
              "      <td>Female</td>\n",
              "      <td>27</td>\n",
              "      <td>57000</td>\n",
              "      <td>0</td>\n",
              "    </tr>\n",
              "    <tr>\n",
              "      <th>4</th>\n",
              "      <td>15804002</td>\n",
              "      <td>Male</td>\n",
              "      <td>19</td>\n",
              "      <td>76000</td>\n",
              "      <td>0</td>\n",
              "    </tr>\n",
              "    <tr>\n",
              "      <th>...</th>\n",
              "      <td>...</td>\n",
              "      <td>...</td>\n",
              "      <td>...</td>\n",
              "      <td>...</td>\n",
              "      <td>...</td>\n",
              "    </tr>\n",
              "    <tr>\n",
              "      <th>395</th>\n",
              "      <td>15691863</td>\n",
              "      <td>Female</td>\n",
              "      <td>46</td>\n",
              "      <td>41000</td>\n",
              "      <td>1</td>\n",
              "    </tr>\n",
              "    <tr>\n",
              "      <th>396</th>\n",
              "      <td>15706071</td>\n",
              "      <td>Male</td>\n",
              "      <td>51</td>\n",
              "      <td>23000</td>\n",
              "      <td>1</td>\n",
              "    </tr>\n",
              "    <tr>\n",
              "      <th>397</th>\n",
              "      <td>15654296</td>\n",
              "      <td>Female</td>\n",
              "      <td>50</td>\n",
              "      <td>20000</td>\n",
              "      <td>1</td>\n",
              "    </tr>\n",
              "    <tr>\n",
              "      <th>398</th>\n",
              "      <td>15755018</td>\n",
              "      <td>Male</td>\n",
              "      <td>36</td>\n",
              "      <td>33000</td>\n",
              "      <td>0</td>\n",
              "    </tr>\n",
              "    <tr>\n",
              "      <th>399</th>\n",
              "      <td>15594041</td>\n",
              "      <td>Female</td>\n",
              "      <td>49</td>\n",
              "      <td>36000</td>\n",
              "      <td>1</td>\n",
              "    </tr>\n",
              "  </tbody>\n",
              "</table>\n",
              "<p>400 rows × 5 columns</p>\n",
              "</div>"
            ],
            "text/plain": [
              "      User ID  Gender  Age  EstimatedSalary  Purchased\n",
              "0    15624510    Male   19            19000          0\n",
              "1    15810944    Male   35            20000          0\n",
              "2    15668575  Female   26            43000          0\n",
              "3    15603246  Female   27            57000          0\n",
              "4    15804002    Male   19            76000          0\n",
              "..        ...     ...  ...              ...        ...\n",
              "395  15691863  Female   46            41000          1\n",
              "396  15706071    Male   51            23000          1\n",
              "397  15654296  Female   50            20000          1\n",
              "398  15755018    Male   36            33000          0\n",
              "399  15594041  Female   49            36000          1\n",
              "\n",
              "[400 rows x 5 columns]"
            ]
          },
          "metadata": {},
          "execution_count": 85
        }
      ]
    },
    {
      "cell_type": "code",
      "metadata": {
        "colab": {
          "base_uri": "https://localhost:8080/"
        },
        "id": "d0a37046-5c56-4f62-8013-82e96c24603d",
        "outputId": "c11e46ad-dcde-4ab3-f1ab-05fcfdce39db"
      },
      "source": [
        "#Verifica se tem NaN\n",
        "hasNan = df.isnull().sum()\n",
        "print(hasNan)"
      ],
      "id": "d0a37046-5c56-4f62-8013-82e96c24603d",
      "execution_count": null,
      "outputs": [
        {
          "output_type": "stream",
          "text": [
            "User ID            0\n",
            "Gender             0\n",
            "Age                0\n",
            "EstimatedSalary    0\n",
            "Purchased          0\n",
            "dtype: int64\n"
          ],
          "name": "stdout"
        }
      ]
    },
    {
      "cell_type": "code",
      "metadata": {
        "colab": {
          "base_uri": "https://localhost:8080/",
          "height": 424
        },
        "id": "7020aadc-26fc-4fc4-8479-98fdd24a7e80",
        "outputId": "27e3fd03-aec2-45ef-e031-27b8e76efa51"
      },
      "source": [
        "dfGender = pd.get_dummies(df['Gender'], prefix = 'Gender')\n",
        "\n",
        "dfGender"
      ],
      "id": "7020aadc-26fc-4fc4-8479-98fdd24a7e80",
      "execution_count": null,
      "outputs": [
        {
          "output_type": "execute_result",
          "data": {
            "text/html": [
              "<div>\n",
              "<style scoped>\n",
              "    .dataframe tbody tr th:only-of-type {\n",
              "        vertical-align: middle;\n",
              "    }\n",
              "\n",
              "    .dataframe tbody tr th {\n",
              "        vertical-align: top;\n",
              "    }\n",
              "\n",
              "    .dataframe thead th {\n",
              "        text-align: right;\n",
              "    }\n",
              "</style>\n",
              "<table border=\"1\" class=\"dataframe\">\n",
              "  <thead>\n",
              "    <tr style=\"text-align: right;\">\n",
              "      <th></th>\n",
              "      <th>Gender_Female</th>\n",
              "      <th>Gender_Male</th>\n",
              "    </tr>\n",
              "  </thead>\n",
              "  <tbody>\n",
              "    <tr>\n",
              "      <th>0</th>\n",
              "      <td>0</td>\n",
              "      <td>1</td>\n",
              "    </tr>\n",
              "    <tr>\n",
              "      <th>1</th>\n",
              "      <td>0</td>\n",
              "      <td>1</td>\n",
              "    </tr>\n",
              "    <tr>\n",
              "      <th>2</th>\n",
              "      <td>1</td>\n",
              "      <td>0</td>\n",
              "    </tr>\n",
              "    <tr>\n",
              "      <th>3</th>\n",
              "      <td>1</td>\n",
              "      <td>0</td>\n",
              "    </tr>\n",
              "    <tr>\n",
              "      <th>4</th>\n",
              "      <td>0</td>\n",
              "      <td>1</td>\n",
              "    </tr>\n",
              "    <tr>\n",
              "      <th>...</th>\n",
              "      <td>...</td>\n",
              "      <td>...</td>\n",
              "    </tr>\n",
              "    <tr>\n",
              "      <th>395</th>\n",
              "      <td>1</td>\n",
              "      <td>0</td>\n",
              "    </tr>\n",
              "    <tr>\n",
              "      <th>396</th>\n",
              "      <td>0</td>\n",
              "      <td>1</td>\n",
              "    </tr>\n",
              "    <tr>\n",
              "      <th>397</th>\n",
              "      <td>1</td>\n",
              "      <td>0</td>\n",
              "    </tr>\n",
              "    <tr>\n",
              "      <th>398</th>\n",
              "      <td>0</td>\n",
              "      <td>1</td>\n",
              "    </tr>\n",
              "    <tr>\n",
              "      <th>399</th>\n",
              "      <td>1</td>\n",
              "      <td>0</td>\n",
              "    </tr>\n",
              "  </tbody>\n",
              "</table>\n",
              "<p>400 rows × 2 columns</p>\n",
              "</div>"
            ],
            "text/plain": [
              "     Gender_Female  Gender_Male\n",
              "0                0            1\n",
              "1                0            1\n",
              "2                1            0\n",
              "3                1            0\n",
              "4                0            1\n",
              "..             ...          ...\n",
              "395              1            0\n",
              "396              0            1\n",
              "397              1            0\n",
              "398              0            1\n",
              "399              1            0\n",
              "\n",
              "[400 rows x 2 columns]"
            ]
          },
          "metadata": {},
          "execution_count": 87
        }
      ]
    },
    {
      "cell_type": "code",
      "metadata": {
        "colab": {
          "base_uri": "https://localhost:8080/",
          "height": 424
        },
        "id": "2cf17fc1-e0bd-4aea-bad9-ddcc55e8a53f",
        "outputId": "585e419c-6921-4c02-b6cc-09edd3a3ef11"
      },
      "source": [
        "# Remoção das colunas que não serão utilizadas\n",
        "del df['User ID']\n",
        "\n",
        "df"
      ],
      "id": "2cf17fc1-e0bd-4aea-bad9-ddcc55e8a53f",
      "execution_count": null,
      "outputs": [
        {
          "output_type": "execute_result",
          "data": {
            "text/html": [
              "<div>\n",
              "<style scoped>\n",
              "    .dataframe tbody tr th:only-of-type {\n",
              "        vertical-align: middle;\n",
              "    }\n",
              "\n",
              "    .dataframe tbody tr th {\n",
              "        vertical-align: top;\n",
              "    }\n",
              "\n",
              "    .dataframe thead th {\n",
              "        text-align: right;\n",
              "    }\n",
              "</style>\n",
              "<table border=\"1\" class=\"dataframe\">\n",
              "  <thead>\n",
              "    <tr style=\"text-align: right;\">\n",
              "      <th></th>\n",
              "      <th>Gender</th>\n",
              "      <th>Age</th>\n",
              "      <th>EstimatedSalary</th>\n",
              "      <th>Purchased</th>\n",
              "    </tr>\n",
              "  </thead>\n",
              "  <tbody>\n",
              "    <tr>\n",
              "      <th>0</th>\n",
              "      <td>Male</td>\n",
              "      <td>19</td>\n",
              "      <td>19000</td>\n",
              "      <td>0</td>\n",
              "    </tr>\n",
              "    <tr>\n",
              "      <th>1</th>\n",
              "      <td>Male</td>\n",
              "      <td>35</td>\n",
              "      <td>20000</td>\n",
              "      <td>0</td>\n",
              "    </tr>\n",
              "    <tr>\n",
              "      <th>2</th>\n",
              "      <td>Female</td>\n",
              "      <td>26</td>\n",
              "      <td>43000</td>\n",
              "      <td>0</td>\n",
              "    </tr>\n",
              "    <tr>\n",
              "      <th>3</th>\n",
              "      <td>Female</td>\n",
              "      <td>27</td>\n",
              "      <td>57000</td>\n",
              "      <td>0</td>\n",
              "    </tr>\n",
              "    <tr>\n",
              "      <th>4</th>\n",
              "      <td>Male</td>\n",
              "      <td>19</td>\n",
              "      <td>76000</td>\n",
              "      <td>0</td>\n",
              "    </tr>\n",
              "    <tr>\n",
              "      <th>...</th>\n",
              "      <td>...</td>\n",
              "      <td>...</td>\n",
              "      <td>...</td>\n",
              "      <td>...</td>\n",
              "    </tr>\n",
              "    <tr>\n",
              "      <th>395</th>\n",
              "      <td>Female</td>\n",
              "      <td>46</td>\n",
              "      <td>41000</td>\n",
              "      <td>1</td>\n",
              "    </tr>\n",
              "    <tr>\n",
              "      <th>396</th>\n",
              "      <td>Male</td>\n",
              "      <td>51</td>\n",
              "      <td>23000</td>\n",
              "      <td>1</td>\n",
              "    </tr>\n",
              "    <tr>\n",
              "      <th>397</th>\n",
              "      <td>Female</td>\n",
              "      <td>50</td>\n",
              "      <td>20000</td>\n",
              "      <td>1</td>\n",
              "    </tr>\n",
              "    <tr>\n",
              "      <th>398</th>\n",
              "      <td>Male</td>\n",
              "      <td>36</td>\n",
              "      <td>33000</td>\n",
              "      <td>0</td>\n",
              "    </tr>\n",
              "    <tr>\n",
              "      <th>399</th>\n",
              "      <td>Female</td>\n",
              "      <td>49</td>\n",
              "      <td>36000</td>\n",
              "      <td>1</td>\n",
              "    </tr>\n",
              "  </tbody>\n",
              "</table>\n",
              "<p>400 rows × 4 columns</p>\n",
              "</div>"
            ],
            "text/plain": [
              "     Gender  Age  EstimatedSalary  Purchased\n",
              "0      Male   19            19000          0\n",
              "1      Male   35            20000          0\n",
              "2    Female   26            43000          0\n",
              "3    Female   27            57000          0\n",
              "4      Male   19            76000          0\n",
              "..      ...  ...              ...        ...\n",
              "395  Female   46            41000          1\n",
              "396    Male   51            23000          1\n",
              "397  Female   50            20000          1\n",
              "398    Male   36            33000          0\n",
              "399  Female   49            36000          1\n",
              "\n",
              "[400 rows x 4 columns]"
            ]
          },
          "metadata": {},
          "execution_count": 88
        }
      ]
    },
    {
      "cell_type": "code",
      "metadata": {
        "colab": {
          "base_uri": "https://localhost:8080/",
          "height": 424
        },
        "id": "d740f85e-1b7f-4e00-97eb-850ac8afc765",
        "outputId": "9404b03a-05c0-452d-fc05-0ad273736bed"
      },
      "source": [
        "# Testando uso do LabelEncoder fit\n",
        "from sklearn.preprocessing import LabelEncoder\n",
        "\n",
        "gender = []\n",
        "\n",
        "\n",
        "le = LabelEncoder()\n",
        "le.fit(df['Gender'])\n",
        "df['Gender'] = le.transform(df['Gender'])\n",
        "gender = le.inverse_transform(df['Gender'])\n",
        "\n",
        "df"
      ],
      "id": "d740f85e-1b7f-4e00-97eb-850ac8afc765",
      "execution_count": null,
      "outputs": [
        {
          "output_type": "execute_result",
          "data": {
            "text/html": [
              "<div>\n",
              "<style scoped>\n",
              "    .dataframe tbody tr th:only-of-type {\n",
              "        vertical-align: middle;\n",
              "    }\n",
              "\n",
              "    .dataframe tbody tr th {\n",
              "        vertical-align: top;\n",
              "    }\n",
              "\n",
              "    .dataframe thead th {\n",
              "        text-align: right;\n",
              "    }\n",
              "</style>\n",
              "<table border=\"1\" class=\"dataframe\">\n",
              "  <thead>\n",
              "    <tr style=\"text-align: right;\">\n",
              "      <th></th>\n",
              "      <th>Gender</th>\n",
              "      <th>Age</th>\n",
              "      <th>EstimatedSalary</th>\n",
              "      <th>Purchased</th>\n",
              "    </tr>\n",
              "  </thead>\n",
              "  <tbody>\n",
              "    <tr>\n",
              "      <th>0</th>\n",
              "      <td>1</td>\n",
              "      <td>19</td>\n",
              "      <td>19000</td>\n",
              "      <td>0</td>\n",
              "    </tr>\n",
              "    <tr>\n",
              "      <th>1</th>\n",
              "      <td>1</td>\n",
              "      <td>35</td>\n",
              "      <td>20000</td>\n",
              "      <td>0</td>\n",
              "    </tr>\n",
              "    <tr>\n",
              "      <th>2</th>\n",
              "      <td>0</td>\n",
              "      <td>26</td>\n",
              "      <td>43000</td>\n",
              "      <td>0</td>\n",
              "    </tr>\n",
              "    <tr>\n",
              "      <th>3</th>\n",
              "      <td>0</td>\n",
              "      <td>27</td>\n",
              "      <td>57000</td>\n",
              "      <td>0</td>\n",
              "    </tr>\n",
              "    <tr>\n",
              "      <th>4</th>\n",
              "      <td>1</td>\n",
              "      <td>19</td>\n",
              "      <td>76000</td>\n",
              "      <td>0</td>\n",
              "    </tr>\n",
              "    <tr>\n",
              "      <th>...</th>\n",
              "      <td>...</td>\n",
              "      <td>...</td>\n",
              "      <td>...</td>\n",
              "      <td>...</td>\n",
              "    </tr>\n",
              "    <tr>\n",
              "      <th>395</th>\n",
              "      <td>0</td>\n",
              "      <td>46</td>\n",
              "      <td>41000</td>\n",
              "      <td>1</td>\n",
              "    </tr>\n",
              "    <tr>\n",
              "      <th>396</th>\n",
              "      <td>1</td>\n",
              "      <td>51</td>\n",
              "      <td>23000</td>\n",
              "      <td>1</td>\n",
              "    </tr>\n",
              "    <tr>\n",
              "      <th>397</th>\n",
              "      <td>0</td>\n",
              "      <td>50</td>\n",
              "      <td>20000</td>\n",
              "      <td>1</td>\n",
              "    </tr>\n",
              "    <tr>\n",
              "      <th>398</th>\n",
              "      <td>1</td>\n",
              "      <td>36</td>\n",
              "      <td>33000</td>\n",
              "      <td>0</td>\n",
              "    </tr>\n",
              "    <tr>\n",
              "      <th>399</th>\n",
              "      <td>0</td>\n",
              "      <td>49</td>\n",
              "      <td>36000</td>\n",
              "      <td>1</td>\n",
              "    </tr>\n",
              "  </tbody>\n",
              "</table>\n",
              "<p>400 rows × 4 columns</p>\n",
              "</div>"
            ],
            "text/plain": [
              "     Gender  Age  EstimatedSalary  Purchased\n",
              "0         1   19            19000          0\n",
              "1         1   35            20000          0\n",
              "2         0   26            43000          0\n",
              "3         0   27            57000          0\n",
              "4         1   19            76000          0\n",
              "..      ...  ...              ...        ...\n",
              "395       0   46            41000          1\n",
              "396       1   51            23000          1\n",
              "397       0   50            20000          1\n",
              "398       1   36            33000          0\n",
              "399       0   49            36000          1\n",
              "\n",
              "[400 rows x 4 columns]"
            ]
          },
          "metadata": {},
          "execution_count": 89
        }
      ]
    },
    {
      "cell_type": "code",
      "metadata": {
        "colab": {
          "base_uri": "https://localhost:8080/",
          "height": 282
        },
        "id": "811316de-2169-45a3-bb87-20f6c73f2573",
        "outputId": "63415ad5-2107-417c-f0e1-6395d0d87b08"
      },
      "source": [
        "# Não há necessidade de processamento de Outliers\n",
        "\n",
        "df[['Gender', 'Age', 'EstimatedSalary', 'Purchased']].plot(kind = 'box')"
      ],
      "id": "811316de-2169-45a3-bb87-20f6c73f2573",
      "execution_count": null,
      "outputs": [
        {
          "output_type": "execute_result",
          "data": {
            "text/plain": [
              "<matplotlib.axes._subplots.AxesSubplot at 0x7fc4c5e927d0>"
            ]
          },
          "metadata": {},
          "execution_count": 90
        },
        {
          "output_type": "display_data",
          "data": {
            "image/png": "[encoded data removed]",
            "text/plain": [
              "<Figure size 432x288 with 1 Axes>"
            ]
          },
          "metadata": {
            "needs_background": "light"
          }
        }
      ]
    },
    {
      "cell_type": "markdown",
      "metadata": {
        "id": "WapjuYlTzI4k"
      },
      "source": [
        "## **Regressão Linear**"
      ],
      "id": "WapjuYlTzI4k"
    },
    {
      "cell_type": "code",
      "metadata": {
        "id": "ywiJt_xOzTm0"
      },
      "source": [
        "# Importação das bibliotecas necessárias\n",
        "import numpy as np\n",
        "import matplotlib.pyplot as plt\n",
        "\n",
        "from sklearn.linear_model import LinearRegression\n",
        "from sklearn.model_selection import cross_val_predict\n",
        "from sklearn import metrics\n",
        "from sklearn.model_selection import cross_val_score\n",
        "from sklearn.model_selection import KFold\n",
        "\n",
        "predictedCV = cross_val_predict(LinearRegression(), df, df['Purchased'], cv=10)"
      ],
      "id": "ywiJt_xOzTm0",
      "execution_count": null,
      "outputs": []
    },
    {
      "cell_type": "code",
      "metadata": {
        "colab": {
          "base_uri": "https://localhost:8080/",
          "height": 282
        },
        "id": "D5WmhMtE1zx2",
        "outputId": "36ff2960-8886-41e2-f7dd-d02f8b5a5643"
      },
      "source": [
        "plt.scatter(df['Age'], predictedCV)"
      ],
      "id": "D5WmhMtE1zx2",
      "execution_count": null,
      "outputs": [
        {
          "output_type": "execute_result",
          "data": {
            "text/plain": [
              "<matplotlib.collections.PathCollection at 0x7fc4c5b49590>"
            ]
          },
          "metadata": {},
          "execution_count": 92
        },
        {
          "output_type": "display_data",
          "data": {
            "image/png": "[encoded data removed]",
            "text/plain": [
              "<Figure size 432x288 with 1 Axes>"
            ]
          },
          "metadata": {
            "needs_background": "light"
          }
        }
      ]
    },
    {
      "cell_type": "code",
      "metadata": {
        "colab": {
          "base_uri": "https://localhost:8080/"
        },
        "id": "DTD1DzYB5z48",
        "outputId": "e578c29b-c18d-4c00-dba0-cf7c4086f085"
      },
      "source": [
        "kfold  = KFold(n_splits=10, shuffle=True)\n",
        "\n",
        "# Cópia para não enviar a coluna purchased junto as outras\n",
        "dfCopy = df.copy()\n",
        "del dfCopy['Purchased']\n",
        "\n",
        "linearRegression_result = cross_val_score(LinearRegression(), dfCopy, df['Purchased'], cv=kfold)\n",
        "\n",
        "print(f'LinearRegression R2: {linearRegression_result.mean():.2f} +- {linearRegression_result.std():.2f}')"
      ],
      "id": "DTD1DzYB5z48",
      "execution_count": null,
      "outputs": [
        {
          "output_type": "stream",
          "text": [
            "LinearRegression R2: 0.43 +- 0.08\n"
          ],
          "name": "stdout"
        }
      ]
    },
    {
      "cell_type": "markdown",
      "metadata": {
        "id": "Aw97Zjxa8uvC"
      },
      "source": [
        "## **Classe runregression**"
      ],
      "id": "Aw97Zjxa8uvC"
    },
    {
      "cell_type": "code",
      "metadata": {
        "id": "UciVkzq78nAD"
      },
      "source": [
        "\n",
        "class runregression:\n",
        "  '''\n",
        "    Parâmetros de entrada:\n",
        "\n",
        "    X: atributos de entradas\n",
        "    y: atributo alvo\n",
        "    model: algoritmo para construção do estimador\n",
        "    cv: quantidade de folds da validação cruzada\n",
        "\n",
        "    Guarda as métricas de cada execução em resultados e \n",
        "    Mostra os valores médios com desvio padrão para as métricas (mostraresultadomedio)   \n",
        "  '''\n",
        "\n",
        "  def __init__(self, X, y, model, cv = 5):\n",
        "    \n",
        "    self.__resultados = {\n",
        "      'MAE': [],\n",
        "      'MSE': [],\n",
        "      'RMSE': [],\n",
        "      'R2': []\n",
        "    }\n",
        "\n",
        "    print(f'validação cruzada com {cv} folds')\n",
        "    self.__avaliamodelo_cv(X, y, model, cv)\n",
        "\n",
        "  @property\n",
        "  def resultados(self):\n",
        "    return self.__resultados\n",
        "\n",
        "  def __avaliamodelo_cv(self, X, y, model, cv):\n",
        "    #gera as amostras para cv folds com embaralhamento (permite fazer várias validações cruzadas)\n",
        "    kf = KFold(shuffle=True, n_splits=cv)\n",
        "    #para cada fold: treina, testa e armazena os resultados\n",
        "    for train_index, test_index in kf.split(X, y):\n",
        "      model.fit(X[train_index], y[train_index])\n",
        "      pred = model.predict(X[test_index])\n",
        "      self.__resultados['MAE'].append(metrics.mean_absolute_error(y[test_index], pred))\n",
        "      self.__resultados['MSE'].append(metrics.mean_squared_error(y[test_index], pred))\n",
        "      self.__resultados['RMSE'].append(np.sqrt(metrics.mean_squared_error(y[test_index], pred)))\n",
        "      self.__resultados['R2'].append(metrics.r2_score(y[test_index], pred))\n",
        "\n",
        "  def mostraresultadomedio(self):\n",
        "    print(f\"MAE: {np.mean(self.__resultados['MAE']):.2f} +- {np.std(self.__resultados['MAE']):.2f}\")\n",
        "    print(f\"MSE: {np.mean(self.__resultados['MSE']):.2f} +- {np.std(self.__resultados['MSE']):.2f}\")\n",
        "    print(f\"RMSE: {np.mean(self.__resultados['RMSE']):.2f} +- {np.std(self.__resultados['RMSE']):.2f}\")\n",
        "    print(f\"R2: {np.mean(self.__resultados['R2']):.2f} +- {np.std(self.__resultados['R2']):.2f}\")"
      ],
      "id": "UciVkzq78nAD",
      "execution_count": null,
      "outputs": []
    },
    {
      "cell_type": "markdown",
      "metadata": {
        "id": "ziGQCe_T92I7"
      },
      "source": [
        "### Linear Regression"
      ],
      "id": "ziGQCe_T92I7"
    },
    {
      "cell_type": "code",
      "metadata": {
        "colab": {
          "base_uri": "https://localhost:8080/"
        },
        "id": "gv3MX3hQ9t7k",
        "outputId": "c412da11-4d80-419b-f18e-6cdccd365119"
      },
      "source": [
        "dfCopy = dfCopy.to_numpy()\n",
        "\n",
        "cross_validation_RL = runregression(dfCopy, df['Purchased'], LinearRegression(), cv = 10)\n",
        "cross_validation_RL.mostraresultadomedio()"
      ],
      "id": "gv3MX3hQ9t7k",
      "execution_count": null,
      "outputs": [
        {
          "output_type": "stream",
          "text": [
            "validação cruzada com 10 folds\n",
            "MAE: 0.30 +- 0.02\n",
            "MSE: 0.13 +- 0.01\n",
            "RMSE: 0.36 +- 0.02\n",
            "R2: 0.42 +- 0.09\n"
          ],
          "name": "stdout"
        }
      ]
    },
    {
      "cell_type": "markdown",
      "metadata": {
        "id": "O1wB30eLCoRz"
      },
      "source": [
        "## KNN Regressor"
      ],
      "id": "O1wB30eLCoRz"
    },
    {
      "cell_type": "code",
      "metadata": {
        "colab": {
          "base_uri": "https://localhost:8080/"
        },
        "id": "dsxiQxfkCrYB",
        "outputId": "cf0810c4-c8ee-4806-b539-9557fee5e69d"
      },
      "source": [
        "from sklearn.model_selection import train_test_split\n",
        "from sklearn.model_selection import GridSearchCV\n",
        "from sklearn.neighbors import KNeighborsRegressor\n",
        "\n",
        "\n",
        "X_train, X_test, y_train, y_test = train_test_split(dfCopy, df['Purchased'], test_size=0.33)\n",
        "\n",
        "#define os parâmetros a serem testados com o KNN\n",
        "param_grid_knn = {'n_neighbors': range(1,40,2), 'weights': ['uniform', 'distance'], 'p': [1, 2, 3]} \n",
        "#cria o objeto do gridsearchcv\n",
        "gridknn = GridSearchCV(KNeighborsRegressor(), param_grid_knn,  cv = 10, verbose = 1) \n",
        "#executa o gridsearchcv para a base separando X e y\n",
        "gridknn.fit(X_train,y_train)"
      ],
      "id": "dsxiQxfkCrYB",
      "execution_count": null,
      "outputs": [
        {
          "output_type": "stream",
          "text": [
            "Fitting 10 folds for each of 120 candidates, totalling 1200 fits\n"
          ],
          "name": "stdout"
        },
        {
          "output_type": "stream",
          "text": [
            "[Parallel(n_jobs=1)]: Using backend SequentialBackend with 1 concurrent workers.\n",
            "[Parallel(n_jobs=1)]: Done 1200 out of 1200 | elapsed:    2.6s finished\n"
          ],
          "name": "stderr"
        },
        {
          "output_type": "execute_result",
          "data": {
            "text/plain": [
              "GridSearchCV(cv=10, error_score=nan,\n",
              "             estimator=KNeighborsRegressor(algorithm='auto', leaf_size=30,\n",
              "                                           metric='minkowski',\n",
              "                                           metric_params=None, n_jobs=None,\n",
              "                                           n_neighbors=5, p=2,\n",
              "                                           weights='uniform'),\n",
              "             iid='deprecated', n_jobs=None,\n",
              "             param_grid={'n_neighbors': range(1, 40, 2), 'p': [1, 2, 3],\n",
              "                         'weights': ['uniform', 'distance']},\n",
              "             pre_dispatch='2*n_jobs', refit=True, return_train_score=False,\n",
              "             scoring=None, verbose=1)"
            ]
          },
          "metadata": {},
          "execution_count": 96
        }
      ]
    },
    {
      "cell_type": "code",
      "metadata": {
        "colab": {
          "base_uri": "https://localhost:8080/"
        },
        "id": "NcDqJg_LC-lf",
        "outputId": "ef5d6b25-feb5-423c-9298-b969a27d8003"
      },
      "source": [
        "gridknn.best_params_"
      ],
      "id": "NcDqJg_LC-lf",
      "execution_count": null,
      "outputs": [
        {
          "output_type": "execute_result",
          "data": {
            "text/plain": [
              "{'n_neighbors': 9, 'p': 2, 'weights': 'uniform'}"
            ]
          },
          "metadata": {},
          "execution_count": 97
        }
      ]
    },
    {
      "cell_type": "markdown",
      "metadata": {
        "id": "_DSH7KdqDQyb"
      },
      "source": [
        "#### Teste com os melhores parâmetros"
      ],
      "id": "_DSH7KdqDQyb"
    },
    {
      "cell_type": "code",
      "metadata": {
        "colab": {
          "base_uri": "https://localhost:8080/"
        },
        "id": "LuBRJQvxDFRC",
        "outputId": "9d8b0099-5360-4a31-8149-a0b1825b7fe5"
      },
      "source": [
        "pred = gridknn.predict(X_test)\n",
        "\n",
        "print('MAE:', metrics.mean_absolute_error(y_test, pred))\n",
        "print('MSE:', metrics.mean_squared_error(y_test, pred))\n",
        "print('RMSE:', np.sqrt(metrics.mean_squared_error(y_test, pred)))\n",
        "print('R2:', metrics.r2_score(y_test, pred))"
      ],
      "id": "LuBRJQvxDFRC",
      "execution_count": null,
      "outputs": [
        {
          "output_type": "stream",
          "text": [
            "MAE: 0.2685185185185185\n",
            "MSE: 0.13496071829405162\n",
            "RMSE: 0.36737000189734004\n",
            "R2: 0.4113753302739537\n"
          ],
          "name": "stdout"
        }
      ]
    },
    {
      "cell_type": "markdown",
      "metadata": {
        "id": "Vrw4ov9cDVKv"
      },
      "source": [
        "#### Validação cruzada com a classe runregression"
      ],
      "id": "Vrw4ov9cDVKv"
    },
    {
      "cell_type": "code",
      "metadata": {
        "colab": {
          "base_uri": "https://localhost:8080/"
        },
        "id": "kTDm3P6-DV02",
        "outputId": "5453cce1-7c9d-486c-f1f4-fba26a80374c"
      },
      "source": [
        "knn = gridknn.best_estimator_ #usa o melhor modelo encontrado pelo gridsearchcv\n",
        "cross_validation_knn = runregression(dfCopy, df['Purchased'], knn, cv = 10)\n",
        "cross_validation_knn.mostraresultadomedio()"
      ],
      "id": "kTDm3P6-DV02",
      "execution_count": null,
      "outputs": [
        {
          "output_type": "stream",
          "text": [
            "validação cruzada com 10 folds\n",
            "MAE: 0.27 +- 0.05\n",
            "MSE: 0.15 +- 0.04\n",
            "RMSE: 0.38 +- 0.06\n",
            "R2: 0.36 +- 0.18\n"
          ],
          "name": "stdout"
        }
      ]
    },
    {
      "cell_type": "markdown",
      "metadata": {
        "id": "RE8P9f5jDpGR"
      },
      "source": [
        "## SVM regressor"
      ],
      "id": "RE8P9f5jDpGR"
    },
    {
      "cell_type": "code",
      "metadata": {
        "colab": {
          "base_uri": "https://localhost:8080/"
        },
        "id": "3TS6Q8ssDjEn",
        "outputId": "ea7b7bfb-eb84-4080-ecd6-0387046b2c7b"
      },
      "source": [
        "from sklearn.svm import SVR\n",
        "\n",
        "param_grid_svm = {\n",
        "    'C': [1, 10, 100], \n",
        "    'gamma': ['auto', 'scale'], \n",
        "    'kernel': ['rbf', 'sigmoid']\n",
        "} \n",
        "gridsvm = GridSearchCV(SVR(),param_grid_svm, verbose = 3)\n",
        "gridsvm.fit(X_train,y_train)"
      ],
      "id": "3TS6Q8ssDjEn",
      "execution_count": null,
      "outputs": [
        {
          "output_type": "stream",
          "text": [
            "[Parallel(n_jobs=1)]: Using backend SequentialBackend with 1 concurrent workers.\n",
            "[Parallel(n_jobs=1)]: Done   1 out of   1 | elapsed:    0.0s remaining:    0.0s\n",
            "[Parallel(n_jobs=1)]: Done   2 out of   2 | elapsed:    0.0s remaining:    0.0s\n"
          ],
          "name": "stderr"
        },
        {
          "output_type": "stream",
          "text": [
            "Fitting 5 folds for each of 12 candidates, totalling 60 fits\n",
            "[CV] C=1, gamma=auto, kernel=rbf .....................................\n",
            "[CV] ......... C=1, gamma=auto, kernel=rbf, score=0.154, total=   0.0s\n",
            "[CV] C=1, gamma=auto, kernel=rbf .....................................\n",
            "[CV] ......... C=1, gamma=auto, kernel=rbf, score=0.054, total=   0.0s\n",
            "[CV] C=1, gamma=auto, kernel=rbf .....................................\n",
            "[CV] ........ C=1, gamma=auto, kernel=rbf, score=-0.045, total=   0.0s\n",
            "[CV] C=1, gamma=auto, kernel=rbf .....................................\n",
            "[CV] ......... C=1, gamma=auto, kernel=rbf, score=0.131, total=   0.0s\n",
            "[CV] C=1, gamma=auto, kernel=rbf .....................................\n",
            "[CV] ......... C=1, gamma=auto, kernel=rbf, score=0.015, total=   0.0s\n",
            "[CV] C=1, gamma=auto, kernel=sigmoid .................................\n",
            "[CV] .... C=1, gamma=auto, kernel=sigmoid, score=-0.278, total=   0.0s\n",
            "[CV] C=1, gamma=auto, kernel=sigmoid .................................\n",
            "[CV] .... C=1, gamma=auto, kernel=sigmoid, score=-0.530, total=   0.0s\n",
            "[CV] C=1, gamma=auto, kernel=sigmoid .................................\n",
            "[CV] .... C=1, gamma=auto, kernel=sigmoid, score=-0.108, total=   0.0s\n",
            "[CV] C=1, gamma=auto, kernel=sigmoid .................................\n",
            "[CV] .... C=1, gamma=auto, kernel=sigmoid, score=-0.367, total=   0.0s\n",
            "[CV] C=1, gamma=auto, kernel=sigmoid .................................\n",
            "[CV] .... C=1, gamma=auto, kernel=sigmoid, score=-0.256, total=   0.0s\n",
            "[CV] C=1, gamma=scale, kernel=rbf ....................................\n",
            "[CV] ........ C=1, gamma=scale, kernel=rbf, score=0.270, total=   0.0s\n",
            "[CV] C=1, gamma=scale, kernel=rbf ....................................\n",
            "[CV] ........ C=1, gamma=scale, kernel=rbf, score=0.133, total=   0.0s\n",
            "[CV] C=1, gamma=scale, kernel=rbf ....................................\n",
            "[CV] ........ C=1, gamma=scale, kernel=rbf, score=0.186, total=   0.0s\n",
            "[CV] C=1, gamma=scale, kernel=rbf ....................................\n",
            "[CV] ........ C=1, gamma=scale, kernel=rbf, score=0.038, total=   0.0s\n",
            "[CV] C=1, gamma=scale, kernel=rbf ....................................\n",
            "[CV] ........ C=1, gamma=scale, kernel=rbf, score=0.225, total=   0.0s\n",
            "[CV] C=1, gamma=scale, kernel=sigmoid ................................\n",
            "[CV] . C=1, gamma=scale, kernel=sigmoid, score=-112.477, total=   0.0s\n",
            "[CV] C=1, gamma=scale, kernel=sigmoid ................................\n",
            "[CV] . C=1, gamma=scale, kernel=sigmoid, score=-156.007, total=   0.0s\n",
            "[CV] C=1, gamma=scale, kernel=sigmoid ................................\n",
            "[CV] . C=1, gamma=scale, kernel=sigmoid, score=-144.688, total=   0.0s\n",
            "[CV] C=1, gamma=scale, kernel=sigmoid ................................\n",
            "[CV] . C=1, gamma=scale, kernel=sigmoid, score=-108.216, total=   0.0s\n",
            "[CV] C=1, gamma=scale, kernel=sigmoid ................................\n",
            "[CV] . C=1, gamma=scale, kernel=sigmoid, score=-164.357, total=   0.0s\n",
            "[CV] C=10, gamma=auto, kernel=rbf ....................................\n",
            "[CV] ........ C=10, gamma=auto, kernel=rbf, score=0.152, total=   0.0s\n",
            "[CV] C=10, gamma=auto, kernel=rbf ....................................\n",
            "[CV] ........ C=10, gamma=auto, kernel=rbf, score=0.055, total=   0.0s\n",
            "[CV] C=10, gamma=auto, kernel=rbf ....................................\n",
            "[CV] ....... C=10, gamma=auto, kernel=rbf, score=-0.054, total=   0.0s\n",
            "[CV] C=10, gamma=auto, kernel=rbf ....................................\n",
            "[CV] ........ C=10, gamma=auto, kernel=rbf, score=0.131, total=   0.0s\n",
            "[CV] C=10, gamma=auto, kernel=rbf ....................................\n",
            "[CV] ....... C=10, gamma=auto, kernel=rbf, score=-0.013, total=   0.0s\n",
            "[CV] C=10, gamma=auto, kernel=sigmoid ................................\n",
            "[CV] ... C=10, gamma=auto, kernel=sigmoid, score=-0.278, total=   0.0s\n",
            "[CV] C=10, gamma=auto, kernel=sigmoid ................................\n",
            "[CV] ... C=10, gamma=auto, kernel=sigmoid, score=-0.530, total=   0.0s\n",
            "[CV] C=10, gamma=auto, kernel=sigmoid ................................\n",
            "[CV] ... C=10, gamma=auto, kernel=sigmoid, score=-0.108, total=   0.0s\n",
            "[CV] C=10, gamma=auto, kernel=sigmoid ................................\n",
            "[CV] ... C=10, gamma=auto, kernel=sigmoid, score=-0.367, total=   0.0s\n",
            "[CV] C=10, gamma=auto, kernel=sigmoid ................................\n",
            "[CV] ... C=10, gamma=auto, kernel=sigmoid, score=-0.256, total=   0.0s\n",
            "[CV] C=10, gamma=scale, kernel=rbf ...................................\n",
            "[CV] ....... C=10, gamma=scale, kernel=rbf, score=0.313, total=   0.0s\n",
            "[CV] C=10, gamma=scale, kernel=rbf ...................................\n",
            "[CV] ....... C=10, gamma=scale, kernel=rbf, score=0.136, total=   0.0s\n",
            "[CV] C=10, gamma=scale, kernel=rbf ...................................\n",
            "[CV] ....... C=10, gamma=scale, kernel=rbf, score=0.140, total=   0.0s\n",
            "[CV] C=10, gamma=scale, kernel=rbf ...................................\n",
            "[CV] ....... C=10, gamma=scale, kernel=rbf, score=0.089, total=   0.0s\n",
            "[CV] C=10, gamma=scale, kernel=rbf ...................................\n",
            "[CV] ....... C=10, gamma=scale, kernel=rbf, score=0.174, total=   0.0s\n",
            "[CV] C=10, gamma=scale, kernel=sigmoid ...............................\n",
            "[CV]  C=10, gamma=scale, kernel=sigmoid, score=-12072.072, total=   0.0s\n",
            "[CV] C=10, gamma=scale, kernel=sigmoid ...............................\n",
            "[CV]  C=10, gamma=scale, kernel=sigmoid, score=-17227.138, total=   0.0s\n",
            "[CV] C=10, gamma=scale, kernel=sigmoid ...............................\n",
            "[CV]  C=10, gamma=scale, kernel=sigmoid, score=-15381.801, total=   0.0s\n",
            "[CV] C=10, gamma=scale, kernel=sigmoid ...............................\n",
            "[CV]  C=10, gamma=scale, kernel=sigmoid, score=-11658.787, total=   0.0s\n",
            "[CV] C=10, gamma=scale, kernel=sigmoid ...............................\n",
            "[CV]  C=10, gamma=scale, kernel=sigmoid, score=-15387.117, total=   0.0s\n",
            "[CV] C=100, gamma=auto, kernel=rbf ...................................\n",
            "[CV] ....... C=100, gamma=auto, kernel=rbf, score=0.152, total=   0.0s\n",
            "[CV] C=100, gamma=auto, kernel=rbf ...................................\n",
            "[CV] ....... C=100, gamma=auto, kernel=rbf, score=0.055, total=   0.0s\n",
            "[CV] C=100, gamma=auto, kernel=rbf ...................................\n",
            "[CV] ...... C=100, gamma=auto, kernel=rbf, score=-0.054, total=   0.0s\n",
            "[CV] C=100, gamma=auto, kernel=rbf ...................................\n",
            "[CV] ....... C=100, gamma=auto, kernel=rbf, score=0.131, total=   0.0s\n",
            "[CV] C=100, gamma=auto, kernel=rbf ...................................\n",
            "[CV] ...... C=100, gamma=auto, kernel=rbf, score=-0.013, total=   0.0s\n",
            "[CV] C=100, gamma=auto, kernel=sigmoid ...............................\n",
            "[CV] .. C=100, gamma=auto, kernel=sigmoid, score=-0.278, total=   0.0s\n",
            "[CV] C=100, gamma=auto, kernel=sigmoid ...............................\n",
            "[CV] .. C=100, gamma=auto, kernel=sigmoid, score=-0.530, total=   0.0s\n",
            "[CV] C=100, gamma=auto, kernel=sigmoid ...............................\n",
            "[CV] .. C=100, gamma=auto, kernel=sigmoid, score=-0.108, total=   0.0s\n",
            "[CV] C=100, gamma=auto, kernel=sigmoid ...............................\n",
            "[CV] .. C=100, gamma=auto, kernel=sigmoid, score=-0.367, total=   0.0s\n",
            "[CV] C=100, gamma=auto, kernel=sigmoid ...............................\n",
            "[CV] .. C=100, gamma=auto, kernel=sigmoid, score=-0.256, total=   0.0s\n",
            "[CV] C=100, gamma=scale, kernel=rbf ..................................\n",
            "[CV] ...... C=100, gamma=scale, kernel=rbf, score=0.303, total=   0.0s\n",
            "[CV] C=100, gamma=scale, kernel=rbf ..................................\n",
            "[CV] ...... C=100, gamma=scale, kernel=rbf, score=0.141, total=   0.0s\n",
            "[CV] C=100, gamma=scale, kernel=rbf ..................................\n",
            "[CV] ...... C=100, gamma=scale, kernel=rbf, score=0.131, total=   0.0s\n",
            "[CV] C=100, gamma=scale, kernel=rbf ..................................\n",
            "[CV] ...... C=100, gamma=scale, kernel=rbf, score=0.123, total=   0.0s\n",
            "[CV] C=100, gamma=scale, kernel=rbf ..................................\n",
            "[CV] ...... C=100, gamma=scale, kernel=rbf, score=0.141, total=   0.0s\n",
            "[CV] C=100, gamma=scale, kernel=sigmoid ..............................\n",
            "[CV]  C=100, gamma=scale, kernel=sigmoid, score=-1216097.380, total=   0.0s\n",
            "[CV] C=100, gamma=scale, kernel=sigmoid ..............................\n",
            "[CV]  C=100, gamma=scale, kernel=sigmoid, score=-1741860.104, total=   0.0s\n",
            "[CV] C=100, gamma=scale, kernel=sigmoid ..............................\n",
            "[CV]  C=100, gamma=scale, kernel=sigmoid, score=-1548993.428, total=   0.0s\n",
            "[CV] C=100, gamma=scale, kernel=sigmoid ..............................\n",
            "[CV]  C=100, gamma=scale, kernel=sigmoid, score=-1173459.119, total=   0.0s\n",
            "[CV] C=100, gamma=scale, kernel=sigmoid ..............................\n",
            "[CV]  C=100, gamma=scale, kernel=sigmoid, score=-1527584.724, total=   0.0s\n"
          ],
          "name": "stdout"
        },
        {
          "output_type": "stream",
          "text": [
            "[Parallel(n_jobs=1)]: Done  60 out of  60 | elapsed:    0.4s finished\n"
          ],
          "name": "stderr"
        },
        {
          "output_type": "execute_result",
          "data": {
            "text/plain": [
              "GridSearchCV(cv=None, error_score=nan,\n",
              "             estimator=SVR(C=1.0, cache_size=200, coef0=0.0, degree=3,\n",
              "                           epsilon=0.1, gamma='scale', kernel='rbf',\n",
              "                           max_iter=-1, shrinking=True, tol=0.001,\n",
              "                           verbose=False),\n",
              "             iid='deprecated', n_jobs=None,\n",
              "             param_grid={'C': [1, 10, 100], 'gamma': ['auto', 'scale'],\n",
              "                         'kernel': ['rbf', 'sigmoid']},\n",
              "             pre_dispatch='2*n_jobs', refit=True, return_train_score=False,\n",
              "             scoring=None, verbose=3)"
            ]
          },
          "metadata": {},
          "execution_count": 100
        }
      ]
    },
    {
      "cell_type": "code",
      "metadata": {
        "colab": {
          "base_uri": "https://localhost:8080/"
        },
        "id": "PulvnVVuD0zQ",
        "outputId": "c07ee387-8dc6-4d95-ad53-645aeeafe1d0"
      },
      "source": [
        "gridsvm.best_params_"
      ],
      "id": "PulvnVVuD0zQ",
      "execution_count": null,
      "outputs": [
        {
          "output_type": "execute_result",
          "data": {
            "text/plain": [
              "{'C': 10, 'gamma': 'scale', 'kernel': 'rbf'}"
            ]
          },
          "metadata": {},
          "execution_count": 101
        }
      ]
    },
    {
      "cell_type": "markdown",
      "metadata": {
        "id": "8VRtLEvmEMtK"
      },
      "source": [
        "####Teste com os melhores parâmetros"
      ],
      "id": "8VRtLEvmEMtK"
    },
    {
      "cell_type": "code",
      "metadata": {
        "colab": {
          "base_uri": "https://localhost:8080/"
        },
        "id": "iIZuG8ltD7Z2",
        "outputId": "90cf9e5e-2755-4334-b2ff-2db88238052c"
      },
      "source": [
        "pred = gridsvm.predict(X_test)\n",
        "\n",
        "print('MAE:', metrics.mean_absolute_error(y_test, pred))\n",
        "print('MSE:', metrics.mean_squared_error(y_test, pred))\n",
        "print('RMSE:', np.sqrt(metrics.mean_squared_error(y_test, pred)))\n",
        "print('R2:', metrics.r2_score(y_test, pred))"
      ],
      "id": "iIZuG8ltD7Z2",
      "execution_count": null,
      "outputs": [
        {
          "output_type": "stream",
          "text": [
            "MAE: 0.27287839097839234\n",
            "MSE: 0.181739402927767\n",
            "RMSE: 0.426309046265461\n",
            "R2: 0.20735235128575424\n"
          ],
          "name": "stdout"
        }
      ]
    },
    {
      "cell_type": "markdown",
      "metadata": {
        "id": "TGs9MUV0EPvs"
      },
      "source": [
        "#### Validação cruzada com a classe runregression"
      ],
      "id": "TGs9MUV0EPvs"
    },
    {
      "cell_type": "code",
      "metadata": {
        "colab": {
          "base_uri": "https://localhost:8080/"
        },
        "id": "q-KuVrQmEChx",
        "outputId": "9559b742-1136-4c3d-b14f-e33be90fd20c"
      },
      "source": [
        "svm = gridsvm.best_estimator_ #usa o melhor modelo encontrado pelo gridsearchcv\n",
        "cross_validation_svm = runregression(dfCopy, df['Purchased'], svm, cv = 10)\n",
        "cross_validation_svm.mostraresultadomedio()"
      ],
      "id": "q-KuVrQmEChx",
      "execution_count": null,
      "outputs": [
        {
          "output_type": "stream",
          "text": [
            "validação cruzada com 10 folds\n",
            "MAE: 0.26 +- 0.04\n",
            "MSE: 0.18 +- 0.04\n",
            "RMSE: 0.43 +- 0.05\n",
            "R2: 0.19 +- 0.17\n"
          ],
          "name": "stdout"
        }
      ]
    },
    {
      "cell_type": "markdown",
      "metadata": {
        "id": "PX3JidVbES97"
      },
      "source": [
        "## MLP regressor"
      ],
      "id": "PX3JidVbES97"
    },
    {
      "cell_type": "markdown",
      "metadata": {
        "id": "kI9VtyiNEXhf"
      },
      "source": [
        "####Escolha dos melhores parâmetros com GridSearchCV"
      ],
      "id": "kI9VtyiNEXhf"
    },
    {
      "cell_type": "code",
      "metadata": {
        "colab": {
          "base_uri": "https://localhost:8080/"
        },
        "id": "Wm8xc2fDEQx_",
        "outputId": "b13fb5ec-5738-411d-b729-1a79a5be7873"
      },
      "source": [
        "from sklearn.neural_network import MLPRegressor\n",
        "\n",
        "param_grid_mlp = {\n",
        "    'hidden_layer_sizes': [(100, ), (13,)], #default e heurístico\n",
        "    'activation': ['identity', 'logistic', 'tanh', 'relu'],\n",
        "    'learning_rate_init': [0.001, 0.01, 0.1],\n",
        "    'max_iter': [1000, 5000]\n",
        "}\n",
        "\n",
        "gridmlp = GridSearchCV(MLPRegressor(),param_grid_mlp, verbose = 1)\n",
        "gridmlp.fit(X_train,y_train)"
      ],
      "id": "Wm8xc2fDEQx_",
      "execution_count": null,
      "outputs": [
        {
          "output_type": "stream",
          "text": [
            "Fitting 5 folds for each of 48 candidates, totalling 240 fits\n"
          ],
          "name": "stdout"
        },
        {
          "output_type": "stream",
          "text": [
            "[Parallel(n_jobs=1)]: Using backend SequentialBackend with 1 concurrent workers.\n",
            "/usr/local/lib/python3.7/dist-packages/sklearn/neural_network/_multilayer_perceptron.py:571: ConvergenceWarning: Stochastic Optimizer: Maximum iterations (1000) reached and the optimization hasn't converged yet.\n",
            "  % self.max_iter, ConvergenceWarning)\n",
            "[Parallel(n_jobs=1)]: Done 240 out of 240 | elapsed:   15.2s finished\n"
          ],
          "name": "stderr"
        },
        {
          "output_type": "execute_result",
          "data": {
            "text/plain": [
              "GridSearchCV(cv=None, error_score=nan,\n",
              "             estimator=MLPRegressor(activation='relu', alpha=0.0001,\n",
              "                                    batch_size='auto', beta_1=0.9, beta_2=0.999,\n",
              "                                    early_stopping=False, epsilon=1e-08,\n",
              "                                    hidden_layer_sizes=(100,),\n",
              "                                    learning_rate='constant',\n",
              "                                    learning_rate_init=0.001, max_fun=15000,\n",
              "                                    max_iter=200, momentum=0.9,\n",
              "                                    n_iter_no_change=10,\n",
              "                                    nesterovs_momentum=True, power_t=0.5,\n",
              "                                    random_sta...\n",
              "                                    solver='adam', tol=0.0001,\n",
              "                                    validation_fraction=0.1, verbose=False,\n",
              "                                    warm_start=False),\n",
              "             iid='deprecated', n_jobs=None,\n",
              "             param_grid={'activation': ['identity', 'logistic', 'tanh', 'relu'],\n",
              "                         'hidden_layer_sizes': [(100,), (13,)],\n",
              "                         'learning_rate_init': [0.001, 0.01, 0.1],\n",
              "                         'max_iter': [1000, 5000]},\n",
              "             pre_dispatch='2*n_jobs', refit=True, return_train_score=False,\n",
              "             scoring=None, verbose=1)"
            ]
          },
          "metadata": {},
          "execution_count": 104
        }
      ]
    },
    {
      "cell_type": "code",
      "metadata": {
        "colab": {
          "base_uri": "https://localhost:8080/"
        },
        "id": "kwN5JNAiEg6d",
        "outputId": "8fa28321-5040-41e6-eccb-2f39485cfa61"
      },
      "source": [
        "gridmlp.best_params_"
      ],
      "id": "kwN5JNAiEg6d",
      "execution_count": null,
      "outputs": [
        {
          "output_type": "execute_result",
          "data": {
            "text/plain": [
              "{'activation': 'logistic',\n",
              " 'hidden_layer_sizes': (100,),\n",
              " 'learning_rate_init': 0.001,\n",
              " 'max_iter': 5000}"
            ]
          },
          "metadata": {},
          "execution_count": 105
        }
      ]
    },
    {
      "cell_type": "markdown",
      "metadata": {
        "id": "Mil_lu7yEnQ-"
      },
      "source": [
        "####Teste com os melhores parâmetros"
      ],
      "id": "Mil_lu7yEnQ-"
    },
    {
      "cell_type": "code",
      "metadata": {
        "colab": {
          "base_uri": "https://localhost:8080/"
        },
        "id": "RVl2PuzjElcU",
        "outputId": "7beee06e-3b10-4164-803f-ee5ebd8c3326"
      },
      "source": [
        "pred = gridmlp.predict(X_test)\n",
        "\n",
        "print('MAE:', metrics.mean_absolute_error(y_test, pred))\n",
        "print('MSE:', metrics.mean_squared_error(y_test, pred))\n",
        "print('RMSE:', np.sqrt(metrics.mean_squared_error(y_test, pred)))\n",
        "print('R2:', metrics.r2_score(y_test, pred))"
      ],
      "id": "RVl2PuzjElcU",
      "execution_count": null,
      "outputs": [
        {
          "output_type": "stream",
          "text": [
            "MAE: 0.4558859472786909\n",
            "MSE: 0.22936792031056605\n",
            "RMSE: 0.478923710324062\n",
            "R2: -0.0003771322881858108\n"
          ],
          "name": "stdout"
        }
      ]
    },
    {
      "cell_type": "markdown",
      "metadata": {
        "id": "YoQGILvhEvUo"
      },
      "source": [
        "#### Validação cruzada com a classe runregression"
      ],
      "id": "YoQGILvhEvUo"
    },
    {
      "cell_type": "code",
      "metadata": {
        "colab": {
          "base_uri": "https://localhost:8080/"
        },
        "id": "5E9IVxgNEx1i",
        "outputId": "3b367f13-09c0-4ea5-b91c-ea9ab878ad7b"
      },
      "source": [
        "mlp = gridmlp.best_estimator_ #usa o melhor modelo encontrado pelo gridsearchcv\n",
        "cross_validation_mlp = runregression(dfCopy, df['Purchased'], mlp, cv = 10)\n",
        "cross_validation_mlp.mostraresultadomedio()"
      ],
      "id": "5E9IVxgNEx1i",
      "execution_count": null,
      "outputs": [
        {
          "output_type": "stream",
          "text": [
            "validação cruzada com 10 folds\n",
            "MAE: 0.46 +- 0.03\n",
            "MSE: 0.23 +- 0.03\n",
            "RMSE: 0.48 +- 0.03\n",
            "R2: -0.04 +- 0.06\n"
          ],
          "name": "stdout"
        }
      ]
    }
  ]
}